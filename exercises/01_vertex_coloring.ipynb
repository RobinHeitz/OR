{
 "cells": [
  {
   "cell_type": "code",
   "execution_count": 15,
   "metadata": {},
   "outputs": [],
   "source": [
    "from gurobipy import Model, GRB, quicksum"
   ]
  },
  {
   "cell_type": "code",
   "execution_count": 16,
   "metadata": {},
   "outputs": [
    {
     "name": "stdout",
     "output_type": "stream",
     "text": [
      "len vertices =  7\n",
      "len edges =  10\n"
     ]
    }
   ],
   "source": [
    "# Data input\n",
    "\n",
    "vertices = [0,1,2,3,4,5,6]\n",
    "V = len(vertices)\n",
    "\n",
    "MAX_COLORS = len(vertices)\n",
    "\n",
    "edges = [(0,1), (0,2), (0,3), (1,2), (1,3), (2,3), (3,4), (4,5), (4,6), (5,6)]\n",
    "\n",
    "print(\"len vertices = \", len(vertices))\n",
    "print(\"len edges = \", len(edges))"
   ]
  },
  {
   "cell_type": "code",
   "execution_count": 17,
   "metadata": {},
   "outputs": [],
   "source": [
    "m = Model(\"a vertex Coloring\")\n",
    "x = m.addVars(V, MAX_COLORS, vtype=GRB.BINARY, name='x')\n",
    "y = m.addVars(MAX_COLORS, vtype=GRB.BINARY, name=\"y\")\n"
   ]
  },
  {
   "cell_type": "code",
   "execution_count": 18,
   "metadata": {},
   "outputs": [],
   "source": [
    "# set objective\n",
    "#Minimize the usage of color c\n",
    "m.setObjective(\n",
    "    quicksum(y[c] for c in range(MAX_COLORS)),\n",
    "    GRB.MINIMIZE\n",
    ")"
   ]
  },
  {
   "cell_type": "code",
   "execution_count": 19,
   "metadata": {},
   "outputs": [
    {
     "data": {
      "text/plain": [
       "{0: <gurobi.Constr *Awaiting Model Update*>,\n",
       " 1: <gurobi.Constr *Awaiting Model Update*>,\n",
       " 2: <gurobi.Constr *Awaiting Model Update*>,\n",
       " 3: <gurobi.Constr *Awaiting Model Update*>,\n",
       " 4: <gurobi.Constr *Awaiting Model Update*>,\n",
       " 5: <gurobi.Constr *Awaiting Model Update*>,\n",
       " 6: <gurobi.Constr *Awaiting Model Update*>}"
      ]
     },
     "execution_count": 19,
     "metadata": {},
     "output_type": "execute_result"
    }
   ],
   "source": [
    "# Constraints:\n",
    "# a vertex has exactly one coloring:\n",
    "m.addConstrs(\n",
    "    quicksum(x[i,c] for c in range(MAX_COLORS)) == 1 for i in range(V)\n",
    ")"
   ]
  },
  {
   "cell_type": "code",
   "execution_count": 20,
   "metadata": {},
   "outputs": [
    {
     "data": {
      "text/plain": [
       "{(0, 1, 0): <gurobi.Constr *Awaiting Model Update*>,\n",
       " (0, 1, 1): <gurobi.Constr *Awaiting Model Update*>,\n",
       " (0, 1, 2): <gurobi.Constr *Awaiting Model Update*>,\n",
       " (0, 1, 3): <gurobi.Constr *Awaiting Model Update*>,\n",
       " (0, 1, 4): <gurobi.Constr *Awaiting Model Update*>,\n",
       " (0, 1, 5): <gurobi.Constr *Awaiting Model Update*>,\n",
       " (0, 1, 6): <gurobi.Constr *Awaiting Model Update*>,\n",
       " (0, 2, 0): <gurobi.Constr *Awaiting Model Update*>,\n",
       " (0, 2, 1): <gurobi.Constr *Awaiting Model Update*>,\n",
       " (0, 2, 2): <gurobi.Constr *Awaiting Model Update*>,\n",
       " (0, 2, 3): <gurobi.Constr *Awaiting Model Update*>,\n",
       " (0, 2, 4): <gurobi.Constr *Awaiting Model Update*>,\n",
       " (0, 2, 5): <gurobi.Constr *Awaiting Model Update*>,\n",
       " (0, 2, 6): <gurobi.Constr *Awaiting Model Update*>,\n",
       " (0, 3, 0): <gurobi.Constr *Awaiting Model Update*>,\n",
       " (0, 3, 1): <gurobi.Constr *Awaiting Model Update*>,\n",
       " (0, 3, 2): <gurobi.Constr *Awaiting Model Update*>,\n",
       " (0, 3, 3): <gurobi.Constr *Awaiting Model Update*>,\n",
       " (0, 3, 4): <gurobi.Constr *Awaiting Model Update*>,\n",
       " (0, 3, 5): <gurobi.Constr *Awaiting Model Update*>,\n",
       " (0, 3, 6): <gurobi.Constr *Awaiting Model Update*>,\n",
       " (1, 2, 0): <gurobi.Constr *Awaiting Model Update*>,\n",
       " (1, 2, 1): <gurobi.Constr *Awaiting Model Update*>,\n",
       " (1, 2, 2): <gurobi.Constr *Awaiting Model Update*>,\n",
       " (1, 2, 3): <gurobi.Constr *Awaiting Model Update*>,\n",
       " (1, 2, 4): <gurobi.Constr *Awaiting Model Update*>,\n",
       " (1, 2, 5): <gurobi.Constr *Awaiting Model Update*>,\n",
       " (1, 2, 6): <gurobi.Constr *Awaiting Model Update*>,\n",
       " (1, 3, 0): <gurobi.Constr *Awaiting Model Update*>,\n",
       " (1, 3, 1): <gurobi.Constr *Awaiting Model Update*>,\n",
       " (1, 3, 2): <gurobi.Constr *Awaiting Model Update*>,\n",
       " (1, 3, 3): <gurobi.Constr *Awaiting Model Update*>,\n",
       " (1, 3, 4): <gurobi.Constr *Awaiting Model Update*>,\n",
       " (1, 3, 5): <gurobi.Constr *Awaiting Model Update*>,\n",
       " (1, 3, 6): <gurobi.Constr *Awaiting Model Update*>,\n",
       " (2, 3, 0): <gurobi.Constr *Awaiting Model Update*>,\n",
       " (2, 3, 1): <gurobi.Constr *Awaiting Model Update*>,\n",
       " (2, 3, 2): <gurobi.Constr *Awaiting Model Update*>,\n",
       " (2, 3, 3): <gurobi.Constr *Awaiting Model Update*>,\n",
       " (2, 3, 4): <gurobi.Constr *Awaiting Model Update*>,\n",
       " (2, 3, 5): <gurobi.Constr *Awaiting Model Update*>,\n",
       " (2, 3, 6): <gurobi.Constr *Awaiting Model Update*>,\n",
       " (3, 4, 0): <gurobi.Constr *Awaiting Model Update*>,\n",
       " (3, 4, 1): <gurobi.Constr *Awaiting Model Update*>,\n",
       " (3, 4, 2): <gurobi.Constr *Awaiting Model Update*>,\n",
       " (3, 4, 3): <gurobi.Constr *Awaiting Model Update*>,\n",
       " (3, 4, 4): <gurobi.Constr *Awaiting Model Update*>,\n",
       " (3, 4, 5): <gurobi.Constr *Awaiting Model Update*>,\n",
       " (3, 4, 6): <gurobi.Constr *Awaiting Model Update*>,\n",
       " (4, 5, 0): <gurobi.Constr *Awaiting Model Update*>,\n",
       " (4, 5, 1): <gurobi.Constr *Awaiting Model Update*>,\n",
       " (4, 5, 2): <gurobi.Constr *Awaiting Model Update*>,\n",
       " (4, 5, 3): <gurobi.Constr *Awaiting Model Update*>,\n",
       " (4, 5, 4): <gurobi.Constr *Awaiting Model Update*>,\n",
       " (4, 5, 5): <gurobi.Constr *Awaiting Model Update*>,\n",
       " (4, 5, 6): <gurobi.Constr *Awaiting Model Update*>,\n",
       " (4, 6, 0): <gurobi.Constr *Awaiting Model Update*>,\n",
       " (4, 6, 1): <gurobi.Constr *Awaiting Model Update*>,\n",
       " (4, 6, 2): <gurobi.Constr *Awaiting Model Update*>,\n",
       " (4, 6, 3): <gurobi.Constr *Awaiting Model Update*>,\n",
       " (4, 6, 4): <gurobi.Constr *Awaiting Model Update*>,\n",
       " (4, 6, 5): <gurobi.Constr *Awaiting Model Update*>,\n",
       " (4, 6, 6): <gurobi.Constr *Awaiting Model Update*>,\n",
       " (5, 6, 0): <gurobi.Constr *Awaiting Model Update*>,\n",
       " (5, 6, 1): <gurobi.Constr *Awaiting Model Update*>,\n",
       " (5, 6, 2): <gurobi.Constr *Awaiting Model Update*>,\n",
       " (5, 6, 3): <gurobi.Constr *Awaiting Model Update*>,\n",
       " (5, 6, 4): <gurobi.Constr *Awaiting Model Update*>,\n",
       " (5, 6, 5): <gurobi.Constr *Awaiting Model Update*>,\n",
       " (5, 6, 6): <gurobi.Constr *Awaiting Model Update*>}"
      ]
     },
     "execution_count": 20,
     "metadata": {},
     "output_type": "execute_result"
    }
   ],
   "source": [
    "#Adjacent constraint: the maximum 1 of each colors is present\n",
    "m.addConstrs(\n",
    "    x[i,c] + x[k,c] <= 1 for i,k in edges for c in range(MAX_COLORS)\n",
    ")\n"
   ]
  },
  {
   "cell_type": "code",
   "execution_count": 21,
   "metadata": {},
   "outputs": [
    {
     "data": {
      "text/plain": [
       "{(0, 0): <gurobi.Constr *Awaiting Model Update*>,\n",
       " (0, 1): <gurobi.Constr *Awaiting Model Update*>,\n",
       " (0, 2): <gurobi.Constr *Awaiting Model Update*>,\n",
       " (0, 3): <gurobi.Constr *Awaiting Model Update*>,\n",
       " (0, 4): <gurobi.Constr *Awaiting Model Update*>,\n",
       " (0, 5): <gurobi.Constr *Awaiting Model Update*>,\n",
       " (0, 6): <gurobi.Constr *Awaiting Model Update*>,\n",
       " (1, 0): <gurobi.Constr *Awaiting Model Update*>,\n",
       " (1, 1): <gurobi.Constr *Awaiting Model Update*>,\n",
       " (1, 2): <gurobi.Constr *Awaiting Model Update*>,\n",
       " (1, 3): <gurobi.Constr *Awaiting Model Update*>,\n",
       " (1, 4): <gurobi.Constr *Awaiting Model Update*>,\n",
       " (1, 5): <gurobi.Constr *Awaiting Model Update*>,\n",
       " (1, 6): <gurobi.Constr *Awaiting Model Update*>,\n",
       " (2, 0): <gurobi.Constr *Awaiting Model Update*>,\n",
       " (2, 1): <gurobi.Constr *Awaiting Model Update*>,\n",
       " (2, 2): <gurobi.Constr *Awaiting Model Update*>,\n",
       " (2, 3): <gurobi.Constr *Awaiting Model Update*>,\n",
       " (2, 4): <gurobi.Constr *Awaiting Model Update*>,\n",
       " (2, 5): <gurobi.Constr *Awaiting Model Update*>,\n",
       " (2, 6): <gurobi.Constr *Awaiting Model Update*>,\n",
       " (3, 0): <gurobi.Constr *Awaiting Model Update*>,\n",
       " (3, 1): <gurobi.Constr *Awaiting Model Update*>,\n",
       " (3, 2): <gurobi.Constr *Awaiting Model Update*>,\n",
       " (3, 3): <gurobi.Constr *Awaiting Model Update*>,\n",
       " (3, 4): <gurobi.Constr *Awaiting Model Update*>,\n",
       " (3, 5): <gurobi.Constr *Awaiting Model Update*>,\n",
       " (3, 6): <gurobi.Constr *Awaiting Model Update*>,\n",
       " (4, 0): <gurobi.Constr *Awaiting Model Update*>,\n",
       " (4, 1): <gurobi.Constr *Awaiting Model Update*>,\n",
       " (4, 2): <gurobi.Constr *Awaiting Model Update*>,\n",
       " (4, 3): <gurobi.Constr *Awaiting Model Update*>,\n",
       " (4, 4): <gurobi.Constr *Awaiting Model Update*>,\n",
       " (4, 5): <gurobi.Constr *Awaiting Model Update*>,\n",
       " (4, 6): <gurobi.Constr *Awaiting Model Update*>,\n",
       " (5, 0): <gurobi.Constr *Awaiting Model Update*>,\n",
       " (5, 1): <gurobi.Constr *Awaiting Model Update*>,\n",
       " (5, 2): <gurobi.Constr *Awaiting Model Update*>,\n",
       " (5, 3): <gurobi.Constr *Awaiting Model Update*>,\n",
       " (5, 4): <gurobi.Constr *Awaiting Model Update*>,\n",
       " (5, 5): <gurobi.Constr *Awaiting Model Update*>,\n",
       " (5, 6): <gurobi.Constr *Awaiting Model Update*>,\n",
       " (6, 0): <gurobi.Constr *Awaiting Model Update*>,\n",
       " (6, 1): <gurobi.Constr *Awaiting Model Update*>,\n",
       " (6, 2): <gurobi.Constr *Awaiting Model Update*>,\n",
       " (6, 3): <gurobi.Constr *Awaiting Model Update*>,\n",
       " (6, 4): <gurobi.Constr *Awaiting Model Update*>,\n",
       " (6, 5): <gurobi.Constr *Awaiting Model Update*>,\n",
       " (6, 6): <gurobi.Constr *Awaiting Model Update*>}"
      ]
     },
     "execution_count": 21,
     "metadata": {},
     "output_type": "execute_result"
    }
   ],
   "source": [
    "# Pair variables\n",
    "m.addConstrs(\n",
    "    x[i,c] <= y[c] for i in range(V) for c in range(MAX_COLORS)\n",
    ")\n"
   ]
  },
  {
   "cell_type": "code",
   "execution_count": 22,
   "metadata": {},
   "outputs": [
    {
     "name": "stdout",
     "output_type": "stream",
     "text": [
      "Gurobi Optimizer version 9.5.2 build v9.5.2rc0 (mac64[rosetta2])\n",
      "Thread count: 8 physical cores, 8 logical processors, using up to 8 threads\n",
      "Optimize a model with 126 rows, 56 columns and 287 nonzeros\n",
      "Model fingerprint: 0xf140f17e\n",
      "Variable types: 0 continuous, 56 integer (56 binary)\n",
      "Coefficient statistics:\n",
      "  Matrix range     [1e+00, 1e+00]\n",
      "  Objective range  [1e+00, 1e+00]\n",
      "  Bounds range     [1e+00, 1e+00]\n",
      "  RHS range        [1e+00, 1e+00]\n",
      "Found heuristic solution: objective 6.0000000\n",
      "Presolve removed 98 rows and 0 columns\n",
      "Presolve time: 0.00s\n",
      "Presolved: 28 rows, 56 columns, 133 nonzeros\n",
      "Variable types: 0 continuous, 56 integer (56 binary)\n",
      "\n",
      "Root relaxation: objective 4.000000e+00, 28 iterations, 0.00 seconds (0.00 work units)\n",
      "\n",
      "    Nodes    |    Current Node    |     Objective Bounds      |     Work\n",
      " Expl Unexpl |  Obj  Depth IntInf | Incumbent    BestBd   Gap | It/Node Time\n",
      "\n",
      "*    0     0               0       4.0000000    4.00000  0.00%     -    0s\n",
      "\n",
      "Explored 1 nodes (28 simplex iterations) in 0.01 seconds (0.00 work units)\n",
      "Thread count was 8 (of 8 available processors)\n",
      "\n",
      "Solution count 2: 4 6 \n",
      "\n",
      "Optimal solution found (tolerance 1.00e-04)\n",
      "Best objective 4.000000000000e+00, best bound 4.000000000000e+00, gap 0.0000%\n"
     ]
    }
   ],
   "source": [
    "m.update()\n",
    "m.optimize()"
   ]
  },
  {
   "cell_type": "code",
   "execution_count": 23,
   "metadata": {},
   "outputs": [
    {
     "name": "stdout",
     "output_type": "stream",
     "text": [
      "4.0\n",
      "Is color 0 used? True\n",
      "Is color 1 used? True\n",
      "Is color 2 used? False\n",
      "Is color 3 used? False\n",
      "Is color 4 used? False\n",
      "Is color 5 used? True\n",
      "Is color 6 used? True\n"
     ]
    }
   ],
   "source": [
    "# Objective Value:\n",
    "if m.Status == 5:\n",
    "    print(\"ERROR: Model's objective is unbound.\")\n",
    "else:\n",
    "    print(m.ObjVal)\n",
    "\n",
    "    for i in range(MAX_COLORS):\n",
    "        print(f\"Is color {i} used? {False if y[i].X == 0 else True}\")\n"
   ]
  }
 ],
 "metadata": {
  "kernelspec": {
   "display_name": "Python 3.9.13 ('env_OR': venv)",
   "language": "python",
   "name": "python3"
  },
  "language_info": {
   "codemirror_mode": {
    "name": "ipython",
    "version": 3
   },
   "file_extension": ".py",
   "mimetype": "text/x-python",
   "name": "python",
   "nbconvert_exporter": "python",
   "pygments_lexer": "ipython3",
   "version": "3.9.13"
  },
  "orig_nbformat": 4,
  "vscode": {
   "interpreter": {
    "hash": "f8b1dc5d973f1ac36d1046a455c34874f8ec28a1be322b30406820e31bffffd6"
   }
  }
 },
 "nbformat": 4,
 "nbformat_minor": 2
}
