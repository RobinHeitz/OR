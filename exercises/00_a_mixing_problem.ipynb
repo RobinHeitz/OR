{
 "cells": [
  {
   "cell_type": "code",
   "execution_count": 1,
   "metadata": {},
   "outputs": [],
   "source": [
    "from gurobipy import Model, GRB, quicksum"
   ]
  },
  {
   "cell_type": "code",
   "execution_count": 16,
   "metadata": {},
   "outputs": [],
   "source": [
    "# Data input: Raw material costs and selling prices for finished products\n",
    "\n",
    "raw_materials = [3,4,5,20]\n",
    "raw_material_labels = [\"red\", \"yellow\", \"blue\", \"secret sauce\"]\n",
    "product_prices = [17,22]\n",
    "product_labels = [\"lila Leuchtfeuer\", \"ORange ORgenweide\"]\n",
    "\n",
    "# i stands for number of raw materials\n",
    "I = len(raw_materials)\n",
    "\n",
    "# j stands for number of products\n",
    "J = len(product_prices)"
   ]
  },
  {
   "cell_type": "code",
   "execution_count": 3,
   "metadata": {},
   "outputs": [
    {
     "name": "stdout",
     "output_type": "stream",
     "text": [
      "Set parameter Username\n",
      "Academic license - for non-commercial use only - expires 2023-10-26\n"
     ]
    }
   ],
   "source": [
    "m = Model(\"a Mixing problem\")\n",
    "x = m.addVars(I,J, vtype=GRB.CONTINUOUS, name='x', lb=0)\n"
   ]
  },
  {
   "cell_type": "code",
   "execution_count": 4,
   "metadata": {},
   "outputs": [],
   "source": [
    "# set objective\n",
    "\n",
    "m.setObjective(\n",
    "    quicksum(product_prices[j] * quicksum(x[i,j] for i in range(I)) for j in range(J)) - \n",
    "    quicksum(raw_materials[i] * quicksum(x[i,j] for j in range(J)) for i in range(I)),\n",
    "    GRB.MAXIMIZE\n",
    ")"
   ]
  },
  {
   "cell_type": "code",
   "execution_count": 12,
   "metadata": {},
   "outputs": [
    {
     "data": {
      "text/plain": [
       "<gurobi.Constr *Awaiting Model Update*>"
      ]
     },
     "execution_count": 12,
     "metadata": {},
     "output_type": "execute_result"
    }
   ],
   "source": [
    "# total output between 100-110 liters\n",
    "m.addConstr(100 <= quicksum(x[i,j] for i in range(I) for j in range(J)))\n",
    "m.addConstr(quicksum(x[i,j] for i in range(I) for j in range(J)) <= 110)"
   ]
  },
  {
   "cell_type": "code",
   "execution_count": 13,
   "metadata": {},
   "outputs": [
    {
     "name": "stdout",
     "output_type": "stream",
     "text": [
      "Gurobi Optimizer version 9.5.2 build v9.5.2rc0 (mac64[rosetta2])\n",
      "Thread count: 8 physical cores, 8 logical processors, using up to 8 threads\n",
      "Optimize a model with 2 rows, 8 columns and 16 nonzeros\n",
      "Model fingerprint: 0x10aa05dd\n",
      "Coefficient statistics:\n",
      "  Matrix range     [1e+00, 1e+00]\n",
      "  Objective range  [2e+00, 2e+01]\n",
      "  Bounds range     [0e+00, 0e+00]\n",
      "  RHS range        [1e+02, 1e+02]\n",
      "Presolve removed 2 rows and 8 columns\n",
      "Presolve time: 0.01s\n",
      "Presolve: All rows and columns removed\n",
      "Iteration    Objective       Primal Inf.    Dual Inf.      Time\n",
      "       0    2.0900000e+03   0.000000e+00   0.000000e+00      0s\n",
      "\n",
      "Solved in 0 iterations and 0.01 seconds (0.00 work units)\n",
      "Optimal objective  2.090000000e+03\n"
     ]
    }
   ],
   "source": [
    "m.update()\n",
    "m.optimize()"
   ]
  },
  {
   "cell_type": "code",
   "execution_count": 24,
   "metadata": {},
   "outputs": [
    {
     "name": "stdout",
     "output_type": "stream",
     "text": [
      "2090.0\n",
      "Ingredients for product: lila Leuchtfeuer:\n",
      "red: <gurobi.Var x[0,0] (value 0.0)>\n",
      "yellow: <gurobi.Var x[1,0] (value 0.0)>\n",
      "blue: <gurobi.Var x[2,0] (value 0.0)>\n",
      "secret sauce: <gurobi.Var x[3,0] (value 0.0)>\n",
      "Ingredients for product: ORange ORgenweide:\n",
      "red: <gurobi.Var x[0,1] (value 110.0)>\n",
      "yellow: <gurobi.Var x[1,1] (value 0.0)>\n",
      "blue: <gurobi.Var x[2,1] (value 0.0)>\n",
      "secret sauce: <gurobi.Var x[3,1] (value 0.0)>\n",
      "Total use of color  red : <built-in method getValue of gurobipy.LinExpr object at 0x7fa848cd5600>\n",
      "Total use of color  yellow : <built-in method getValue of gurobipy.LinExpr object at 0x7fa848337880>\n",
      "Total use of color  blue : <built-in method getValue of gurobipy.LinExpr object at 0x7fa848cd5600>\n",
      "Total use of color  secret sauce : <built-in method getValue of gurobipy.LinExpr object at 0x7fa848337880>\n"
     ]
    }
   ],
   "source": [
    "# Objective Value:\n",
    "if m.Status == 5:\n",
    "    print(\"ERROR: Model's objective is unbound.\")\n",
    "else:\n",
    "    print(m.ObjVal)\n",
    "\n",
    "    for j in range(J):\n",
    "        print(f\"Ingredients for product: {product_labels[j]}:\")\n",
    "        for i in range(I):\n",
    "            print(f\"{raw_material_labels[i]}: {x[i,j]}\")\n",
    "\n",
    "    \n",
    "    total_output = quicksum(x[i,j] for i in range(I) for j in range(J))\n",
    "\n",
    "    for i in range(I):\n",
    "        col = quicksum(x[i,j] for j in range(J))\n",
    "        print(\"Total use of color \", raw_material_labels[i], \":\", col.getValue)\n",
    "\n",
    "\n",
    "\n",
    "\n",
    "\n",
    "# print(m.ObjVal)"
   ]
  },
  {
   "cell_type": "code",
   "execution_count": null,
   "metadata": {},
   "outputs": [],
   "source": []
  }
 ],
 "metadata": {
  "kernelspec": {
   "display_name": "Python 3.9.13 ('env_OR': venv)",
   "language": "python",
   "name": "python3"
  },
  "language_info": {
   "codemirror_mode": {
    "name": "ipython",
    "version": 3
   },
   "file_extension": ".py",
   "mimetype": "text/x-python",
   "name": "python",
   "nbconvert_exporter": "python",
   "pygments_lexer": "ipython3",
   "version": "3.9.13"
  },
  "orig_nbformat": 4,
  "vscode": {
   "interpreter": {
    "hash": "f8b1dc5d973f1ac36d1046a455c34874f8ec28a1be322b30406820e31bffffd6"
   }
  }
 },
 "nbformat": 4,
 "nbformat_minor": 2
}
