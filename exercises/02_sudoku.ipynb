{
 "cells": [
  {
   "cell_type": "code",
   "execution_count": 1,
   "metadata": {},
   "outputs": [],
   "source": [
    "from gurobipy import Model, GRB, quicksum"
   ]
  },
  {
   "cell_type": "code",
   "execution_count": 2,
   "metadata": {},
   "outputs": [],
   "source": [
    "# https://betterprogramming.pub/sudoku-solver-a-brute-force-approach-using-python-ee180b071346\n",
    "def draw(puzzle):\n",
    "    for r in range(len(puzzle)):\n",
    "        if r == 0 or r == 3 or r == 6:\n",
    "            print(\"+-------+-------+-------+\")\n",
    "        for c in range(len(puzzle[r])):\n",
    "            if c == 0 or c == 3 or c ==6:\n",
    "                print(\"| \", end = \"\")\n",
    "            if puzzle[r][c] != 0:\n",
    "                print(puzzle[r][c], end = \" \")\n",
    "            else:\n",
    "                print(end = \"  \")\n",
    "            if c == 8:\n",
    "                print(\"|\")\n",
    "    print(\"+-------+-------+-------+\")"
   ]
  },
  {
   "cell_type": "code",
   "execution_count": 3,
   "metadata": {},
   "outputs": [
    {
     "name": "stdout",
     "output_type": "stream",
     "text": [
      "+-------+-------+-------+\n",
      "| 2 5   |   3   | 9   1 |\n",
      "|   1   |     4 |       |\n",
      "| 4   7 |       | 2   8 |\n",
      "+-------+-------+-------+\n",
      "|     5 | 2     |       |\n",
      "|       |   9 8 | 1     |\n",
      "|   4   |     3 |       |\n",
      "+-------+-------+-------+\n",
      "|       | 3 6   |   7 2 |\n",
      "|   7   |       |     3 |\n",
      "| 9   3 |       | 6   4 |\n",
      "+-------+-------+-------+\n"
     ]
    }
   ],
   "source": [
    "starting_puzzle =  [[2, 5, 0, 0, 3, 0, 9, 0, 1],\n",
    "                  [0, 1, 0, 0, 0, 4, 0, 0, 0],\n",
    "                  [4, 0, 7, 0, 0, 0, 2, 0, 8],\n",
    "                  [0, 0, 5, 2, 0, 0, 0, 0, 0],\n",
    "                  [0, 0, 0, 0, 9, 8, 1, 0, 0],\n",
    "                  [0, 4, 0, 0, 0, 3, 0, 0, 0],\n",
    "                  [0, 0, 0, 3, 6, 0, 0, 7, 2],\n",
    "                  [0, 7, 0, 0, 0, 0, 0, 0, 3],\n",
    "                  [9, 0, 3, 0, 0, 0, 6, 0, 4]]\n",
    "\n",
    "draw(starting_puzzle)"
   ]
  },
  {
   "cell_type": "code",
   "execution_count": 4,
   "metadata": {},
   "outputs": [
    {
     "name": "stdout",
     "output_type": "stream",
     "text": [
      "Set parameter Username\n",
      "Academic license - for non-commercial use only - expires 2023-10-26\n"
     ]
    }
   ],
   "source": [
    "m = Model(\"A Sudoku solver\")\n",
    "\n",
    "# x_ijk: i for row, j for column and k for the numbers 1-9 -> Binary: Number k at position i,j is selected\n",
    "\n",
    "    x = m.addVars(9,9,9, vtype=GRB.BINARY, name='x')\n"
   ]
  },
  {
   "cell_type": "code",
   "execution_count": 5,
   "metadata": {},
   "outputs": [],
   "source": [
    "# we only want one valid solution, every possible solution is equaly good :)\n",
    "\n",
    "m.setObjective(\n",
    "    0,\n",
    "    GRB.MINIMIZE\n",
    ")"
   ]
  },
  {
   "cell_type": "code",
   "execution_count": 13,
   "metadata": {},
   "outputs": [
    {
     "data": {
      "text/plain": [
       "{(0, 0, 0): <gurobi.Constr *Awaiting Model Update*>,\n",
       " (0, 0, 3): <gurobi.Constr *Awaiting Model Update*>,\n",
       " (0, 0, 6): <gurobi.Constr *Awaiting Model Update*>,\n",
       " (0, 3, 0): <gurobi.Constr *Awaiting Model Update*>,\n",
       " (0, 3, 3): <gurobi.Constr *Awaiting Model Update*>,\n",
       " (0, 3, 6): <gurobi.Constr *Awaiting Model Update*>,\n",
       " (0, 6, 0): <gurobi.Constr *Awaiting Model Update*>,\n",
       " (0, 6, 3): <gurobi.Constr *Awaiting Model Update*>,\n",
       " (0, 6, 6): <gurobi.Constr *Awaiting Model Update*>,\n",
       " (1, 0, 0): <gurobi.Constr *Awaiting Model Update*>,\n",
       " (1, 0, 3): <gurobi.Constr *Awaiting Model Update*>,\n",
       " (1, 0, 6): <gurobi.Constr *Awaiting Model Update*>,\n",
       " (1, 3, 0): <gurobi.Constr *Awaiting Model Update*>,\n",
       " (1, 3, 3): <gurobi.Constr *Awaiting Model Update*>,\n",
       " (1, 3, 6): <gurobi.Constr *Awaiting Model Update*>,\n",
       " (1, 6, 0): <gurobi.Constr *Awaiting Model Update*>,\n",
       " (1, 6, 3): <gurobi.Constr *Awaiting Model Update*>,\n",
       " (1, 6, 6): <gurobi.Constr *Awaiting Model Update*>,\n",
       " (2, 0, 0): <gurobi.Constr *Awaiting Model Update*>,\n",
       " (2, 0, 3): <gurobi.Constr *Awaiting Model Update*>,\n",
       " (2, 0, 6): <gurobi.Constr *Awaiting Model Update*>,\n",
       " (2, 3, 0): <gurobi.Constr *Awaiting Model Update*>,\n",
       " (2, 3, 3): <gurobi.Constr *Awaiting Model Update*>,\n",
       " (2, 3, 6): <gurobi.Constr *Awaiting Model Update*>,\n",
       " (2, 6, 0): <gurobi.Constr *Awaiting Model Update*>,\n",
       " (2, 6, 3): <gurobi.Constr *Awaiting Model Update*>,\n",
       " (2, 6, 6): <gurobi.Constr *Awaiting Model Update*>,\n",
       " (3, 0, 0): <gurobi.Constr *Awaiting Model Update*>,\n",
       " (3, 0, 3): <gurobi.Constr *Awaiting Model Update*>,\n",
       " (3, 0, 6): <gurobi.Constr *Awaiting Model Update*>,\n",
       " (3, 3, 0): <gurobi.Constr *Awaiting Model Update*>,\n",
       " (3, 3, 3): <gurobi.Constr *Awaiting Model Update*>,\n",
       " (3, 3, 6): <gurobi.Constr *Awaiting Model Update*>,\n",
       " (3, 6, 0): <gurobi.Constr *Awaiting Model Update*>,\n",
       " (3, 6, 3): <gurobi.Constr *Awaiting Model Update*>,\n",
       " (3, 6, 6): <gurobi.Constr *Awaiting Model Update*>,\n",
       " (4, 0, 0): <gurobi.Constr *Awaiting Model Update*>,\n",
       " (4, 0, 3): <gurobi.Constr *Awaiting Model Update*>,\n",
       " (4, 0, 6): <gurobi.Constr *Awaiting Model Update*>,\n",
       " (4, 3, 0): <gurobi.Constr *Awaiting Model Update*>,\n",
       " (4, 3, 3): <gurobi.Constr *Awaiting Model Update*>,\n",
       " (4, 3, 6): <gurobi.Constr *Awaiting Model Update*>,\n",
       " (4, 6, 0): <gurobi.Constr *Awaiting Model Update*>,\n",
       " (4, 6, 3): <gurobi.Constr *Awaiting Model Update*>,\n",
       " (4, 6, 6): <gurobi.Constr *Awaiting Model Update*>,\n",
       " (5, 0, 0): <gurobi.Constr *Awaiting Model Update*>,\n",
       " (5, 0, 3): <gurobi.Constr *Awaiting Model Update*>,\n",
       " (5, 0, 6): <gurobi.Constr *Awaiting Model Update*>,\n",
       " (5, 3, 0): <gurobi.Constr *Awaiting Model Update*>,\n",
       " (5, 3, 3): <gurobi.Constr *Awaiting Model Update*>,\n",
       " (5, 3, 6): <gurobi.Constr *Awaiting Model Update*>,\n",
       " (5, 6, 0): <gurobi.Constr *Awaiting Model Update*>,\n",
       " (5, 6, 3): <gurobi.Constr *Awaiting Model Update*>,\n",
       " (5, 6, 6): <gurobi.Constr *Awaiting Model Update*>,\n",
       " (6, 0, 0): <gurobi.Constr *Awaiting Model Update*>,\n",
       " (6, 0, 3): <gurobi.Constr *Awaiting Model Update*>,\n",
       " (6, 0, 6): <gurobi.Constr *Awaiting Model Update*>,\n",
       " (6, 3, 0): <gurobi.Constr *Awaiting Model Update*>,\n",
       " (6, 3, 3): <gurobi.Constr *Awaiting Model Update*>,\n",
       " (6, 3, 6): <gurobi.Constr *Awaiting Model Update*>,\n",
       " (6, 6, 0): <gurobi.Constr *Awaiting Model Update*>,\n",
       " (6, 6, 3): <gurobi.Constr *Awaiting Model Update*>,\n",
       " (6, 6, 6): <gurobi.Constr *Awaiting Model Update*>,\n",
       " (7, 0, 0): <gurobi.Constr *Awaiting Model Update*>,\n",
       " (7, 0, 3): <gurobi.Constr *Awaiting Model Update*>,\n",
       " (7, 0, 6): <gurobi.Constr *Awaiting Model Update*>,\n",
       " (7, 3, 0): <gurobi.Constr *Awaiting Model Update*>,\n",
       " (7, 3, 3): <gurobi.Constr *Awaiting Model Update*>,\n",
       " (7, 3, 6): <gurobi.Constr *Awaiting Model Update*>,\n",
       " (7, 6, 0): <gurobi.Constr *Awaiting Model Update*>,\n",
       " (7, 6, 3): <gurobi.Constr *Awaiting Model Update*>,\n",
       " (7, 6, 6): <gurobi.Constr *Awaiting Model Update*>,\n",
       " (8, 0, 0): <gurobi.Constr *Awaiting Model Update*>,\n",
       " (8, 0, 3): <gurobi.Constr *Awaiting Model Update*>,\n",
       " (8, 0, 6): <gurobi.Constr *Awaiting Model Update*>,\n",
       " (8, 3, 0): <gurobi.Constr *Awaiting Model Update*>,\n",
       " (8, 3, 3): <gurobi.Constr *Awaiting Model Update*>,\n",
       " (8, 3, 6): <gurobi.Constr *Awaiting Model Update*>,\n",
       " (8, 6, 0): <gurobi.Constr *Awaiting Model Update*>,\n",
       " (8, 6, 3): <gurobi.Constr *Awaiting Model Update*>,\n",
       " (8, 6, 6): <gurobi.Constr *Awaiting Model Update*>}"
      ]
     },
     "execution_count": 13,
     "metadata": {},
     "output_type": "execute_result"
    }
   ],
   "source": [
    "# Constraints\n",
    "\n",
    "# every cell: Assign exactly one number\n",
    "m.addConstrs(\n",
    "    quicksum(x[i,j,k] for k in range(9)) == 1 for i in range(9) for j in range(9)\n",
    ")\n",
    "\n",
    "\n",
    "# correct numbers in every row:\n",
    "m.addConstrs(\n",
    "    quicksum(x[i,j,k] for j in range(9)) == 1 for i in range(9) for k in range(9)\n",
    ")\n",
    "\n",
    "# correct numbers in every column:\n",
    "m.addConstrs(\n",
    "    quicksum(x[i,j,k] for i in range(9)) == 1 for j in range(9) for k in range(9)\n",
    ")\n",
    "\n",
    "# correct numbers in every sub-square:\n",
    "\n",
    "m.addConstrs(\n",
    "    quicksum(x[i,j,k] for i in range(p,p+3) for j in range(q,q+3)) == 1 for k in range(9) for p in (0,3,6) for q in (0,3,6)\n",
    ")"
   ]
  },
  {
   "cell_type": "code",
   "execution_count": 8,
   "metadata": {},
   "outputs": [],
   "source": [
    "# Add constraints regarding the starting puzzle:\n",
    "for row, row_index in zip(starting_puzzle, range(9)):\n",
    "    for cell, column_index  in zip(row, range(9)):\n",
    "        \n",
    "        if cell != 0:\n",
    "            # Set the constraint!\n",
    "            # if number 2 should be set at position (0,0), than that means that x[0,0,1] = 1\n",
    "            k_index = cell - 1\n",
    "            m.addConstr(\n",
    "                x[row_index, column_index, k_index] == 1 \n",
    "            )"
   ]
  },
  {
   "cell_type": "code",
   "execution_count": 9,
   "metadata": {},
   "outputs": [
    {
     "name": "stdout",
     "output_type": "stream",
     "text": [
      "Gurobi Optimizer version 9.5.2 build v9.5.2rc0 (mac64[rosetta2])\n",
      "Thread count: 8 physical cores, 8 logical processors, using up to 8 threads\n",
      "Optimize a model with 354 rows, 729 columns and 2946 nonzeros\n",
      "Model fingerprint: 0x1a33a12a\n",
      "Variable types: 0 continuous, 729 integer (729 binary)\n",
      "Coefficient statistics:\n",
      "  Matrix range     [1e+00, 1e+00]\n",
      "  Objective range  [0e+00, 0e+00]\n",
      "  Bounds range     [1e+00, 1e+00]\n",
      "  RHS range        [1e+00, 1e+00]\n",
      "Presolve removed 354 rows and 729 columns\n",
      "Presolve time: 0.00s\n",
      "Presolve: All rows and columns removed\n",
      "\n",
      "Explored 0 nodes (0 simplex iterations) in 0.01 seconds (0.00 work units)\n",
      "Thread count was 1 (of 8 available processors)\n",
      "\n",
      "Solution count 1: 0 \n",
      "\n",
      "Optimal solution found (tolerance 1.00e-04)\n",
      "Best objective 0.000000000000e+00, best bound 0.000000000000e+00, gap 0.0000%\n"
     ]
    }
   ],
   "source": [
    "m.update()\n",
    "m.optimize()"
   ]
  },
  {
   "cell_type": "code",
   "execution_count": 10,
   "metadata": {},
   "outputs": [
    {
     "name": "stdout",
     "output_type": "stream",
     "text": [
      "+-------+-------+-------+\n",
      "| 2 5 8 | 7 3 6 | 9 4 1 |\n",
      "| 6 1 9 | 8 2 4 | 3 5 7 |\n",
      "| 4 3 7 | 9 1 5 | 2 6 8 |\n",
      "+-------+-------+-------+\n",
      "| 3 9 5 | 2 7 1 | 4 8 6 |\n",
      "| 7 6 2 | 4 9 8 | 1 3 5 |\n",
      "| 8 4 1 | 6 5 3 | 7 2 9 |\n",
      "+-------+-------+-------+\n",
      "| 1 8 4 | 3 6 9 | 5 7 2 |\n",
      "| 5 7 6 | 1 4 2 | 8 9 3 |\n",
      "| 9 2 3 | 5 8 7 | 6 1 4 |\n",
      "+-------+-------+-------+\n"
     ]
    }
   ],
   "source": [
    "# Create rows for displaying\n",
    "rows = []\n",
    "\n",
    "for i in range(9):\n",
    "    row = []\n",
    "    for j in range(9):\n",
    "        for k in range(9):\n",
    "            value_binary = x[i,j,k].X\n",
    "            # check if the binary variable is 1, than thats the number at index k thats assigned to this cell. Add +1 b/c it starts at 0 and not 1.\n",
    "            if value_binary == 1: row.append(k+1)\n",
    "    rows.append(row)\n",
    "\n",
    "draw(rows)\n",
    "\n"
   ]
  }
 ],
 "metadata": {
  "kernelspec": {
   "display_name": "Python 3.9.13 ('env_OR': venv)",
   "language": "python",
   "name": "python3"
  },
  "language_info": {
   "codemirror_mode": {
    "name": "ipython",
    "version": 3
   },
   "file_extension": ".py",
   "mimetype": "text/x-python",
   "name": "python",
   "nbconvert_exporter": "python",
   "pygments_lexer": "ipython3",
   "version": "3.9.13"
  },
  "orig_nbformat": 4,
  "vscode": {
   "interpreter": {
    "hash": "f8b1dc5d973f1ac36d1046a455c34874f8ec28a1be322b30406820e31bffffd6"
   }
  }
 },
 "nbformat": 4,
 "nbformat_minor": 2
}
