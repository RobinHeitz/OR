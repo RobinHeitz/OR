{
 "cells": [
  {
   "cell_type": "code",
   "execution_count": 16,
   "metadata": {},
   "outputs": [],
   "source": [
    "from gurobipy import Model, quicksum, GRB"
   ]
  },
  {
   "cell_type": "code",
   "execution_count": 17,
   "metadata": {},
   "outputs": [
    {
     "name": "stdout",
     "output_type": "stream",
     "text": [
      "[('Aachen', 6, 3, 21, 5), ('Dortmund', 8, 3, 25, 5), ('Köln', 4, 3, 28, 5)]\n"
     ]
    }
   ],
   "source": [
    "city_names = [\"Aachen\", \"Dortmund\", \"Köln\"]\n",
    "label_widths = [len(city) for city in city_names]\n",
    "label_heights = [3 for _ in city_names]\n",
    "\n",
    "x_pos = [21,25,28]\n",
    "y_pos = [5, 5, 5]\n",
    "\n",
    "assert(len(city_names) == len(x_pos) == len(y_pos) == len(label_heights) == len(label_widths))\n",
    "\n",
    "\n",
    "I = len(city_names)\n",
    "J = 4 #number of orientations\n",
    "\n",
    "######### ORIENTATION DEFINITION ############\n",
    "# 0 = NE, 1 = SE, 2 = SW, 3 = NW\n",
    "\n",
    "W, H = 50,15\n",
    "\n",
    "print(list(zip(city_names, label_widths, label_heights, x_pos, y_pos)))\n",
    "\n",
    "# assert that every city is within map:\n",
    "for i in range(I):\n",
    "    assert(0 <= x_pos[i] < W)\n",
    "    assert(0 <= y_pos[i] < H)\n"
   ]
  },
  {
   "cell_type": "code",
   "execution_count": 18,
   "metadata": {},
   "outputs": [],
   "source": [
    "def get_x_intervall(i, j):\n",
    "    if j in (0,1): #NE or SE\n",
    "        return set_from_intervall((x_pos[i] +1, x_pos[i] + label_widths[i]))\n",
    "    elif j in (2, 3):\n",
    "        return set_from_intervall((x_pos[i] - label_widths[i], x_pos[i]-1))\n",
    "\n",
    "def get_y_intervall(i,j):\n",
    "    if j in (0, 3): # its north\n",
    "        return set_from_intervall((y_pos[i] - label_heights[i], y_pos[i] -1, ))\n",
    "    elif j in (1,2): # iths south\n",
    "        return set_from_intervall((y_pos[i] + 1,  y_pos[i] + label_heights[i], ))\n",
    "\n",
    "def set_from_intervall(intervall):\n",
    "    return set(range(intervall[0], intervall[1] +1 ))\n"
   ]
  },
  {
   "cell_type": "code",
   "execution_count": 19,
   "metadata": {},
   "outputs": [
    {
     "name": "stdout",
     "output_type": "stream",
     "text": [
      "50\n",
      "[((0, 0), (0, 1)), ((0, 0), (0, 3)), ((0, 0), (1, 0)), ((0, 0), (1, 1)), ((0, 0), (1, 2)), ((0, 0), (1, 3)), ((0, 0), (2, 0)), ((0, 0), (2, 2)), ((0, 0), (2, 3)), ((0, 1), (0, 2)), ((0, 1), (1, 0)), ((0, 1), (1, 1)), ((0, 1), (1, 2)), ((0, 1), (1, 3)), ((0, 1), (2, 1)), ((0, 1), (2, 2)), ((0, 1), (2, 3)), ((0, 2), (0, 3)), ((0, 2), (1, 1)), ((0, 2), (1, 2)), ((0, 2), (1, 3)), ((0, 2), (2, 1)), ((0, 2), (2, 2)), ((0, 3), (1, 0)), ((0, 3), (1, 2)), ((0, 3), (1, 3)), ((0, 3), (2, 0)), ((0, 3), (2, 3)), ((1, 0), (1, 1)), ((1, 0), (1, 3)), ((1, 0), (2, 0)), ((1, 0), (2, 1)), ((1, 0), (2, 2)), ((1, 0), (2, 3)), ((1, 1), (1, 2)), ((1, 1), (2, 0)), ((1, 1), (2, 1)), ((1, 1), (2, 2)), ((1, 1), (2, 3)), ((1, 2), (1, 3)), ((1, 2), (2, 1)), ((1, 2), (2, 2)), ((1, 2), (2, 3)), ((1, 3), (2, 0)), ((1, 3), (2, 2)), ((1, 3), (2, 3)), ((2, 0), (2, 1)), ((2, 0), (2, 3)), ((2, 1), (2, 2)), ((2, 2), (2, 3))]\n"
     ]
    }
   ],
   "source": [
    "# notation for label orientation (clock-wise definition):\n",
    "# 0 = NE / 1=SE, 2=SW, 3=NW\n",
    "\n",
    "def labels_are_intersecting(n, m):\n",
    "    a_x = get_x_intervall(*n)\n",
    "    a_y = get_y_intervall(*n)\n",
    "\n",
    "    b_x = get_x_intervall(*m)\n",
    "    b_y = get_y_intervall(*m)\n",
    "    return len(a_x & b_x) != 0 or len(a_y & b_y) != 0    \n",
    "\n",
    "# model intersecting labels as graph: nodes are every label: (i,j)\n",
    "# adjacent nodes means: Label are intersecting\n",
    "\n",
    "labels = [(i,j) for i,c in enumerate(city_names) for j in range(J)]\n",
    "\n",
    "import itertools\n",
    "intersections = [\n",
    "    (a,b) for a,b in itertools.combinations(labels, 2) if labels_are_intersecting(a,b) == True\n",
    "]\n",
    "\n",
    "print(len(intersections))\n",
    "print(intersections)"
   ]
  },
  {
   "cell_type": "code",
   "execution_count": 20,
   "metadata": {},
   "outputs": [
    {
     "name": "stdout",
     "output_type": "stream",
     "text": [
      "Thats the map prior the label optimization.\n",
      "----------------------------------------------------\n",
      "|                                                  |\n",
      "|                                                  |\n",
      "|                                                  |\n",
      "|                                                  |\n",
      "|                                                  |\n",
      "|                     x   x  x                     |\n",
      "|                                                  |\n",
      "|                                                  |\n",
      "|                                                  |\n",
      "|                                                  |\n",
      "|                                                  |\n",
      "|                                                  |\n",
      "|                                                  |\n",
      "|                                                  |\n",
      "|                                                  |\n",
      "----------------------------------------------------\n"
     ]
    }
   ],
   "source": [
    "map_ = [\n",
    "    [\" \" for _ in range(W)] for _ in range(H)\n",
    "]\n",
    "\n",
    "def print_map():\n",
    "    print(\"-\"*(W +2))\n",
    "    for row in map_:\n",
    "        row_string = \"|\" + \"\".join(row) + \"|\"\n",
    "        print(row_string)\n",
    "    print(\"-\"*(W +2))\n",
    "\n",
    "# mark every city with 'x'\n",
    "for i in range(I):\n",
    "    x,y = x_pos[i], y_pos[i]\n",
    "    map_[y][x] = \"x\"\n",
    "\n",
    "print(\"Thats the map prior the label optimization.\")\n",
    "print_map()\n",
    "\n",
    "\n"
   ]
  },
  {
   "cell_type": "code",
   "execution_count": 21,
   "metadata": {},
   "outputs": [],
   "source": [
    "m = Model(\"Map Labeling Problem\")\n",
    "\n",
    "x = m.addVars(I, J, vtype=GRB.BINARY, name=\"x\")"
   ]
  },
  {
   "cell_type": "code",
   "execution_count": 22,
   "metadata": {},
   "outputs": [
    {
     "data": {
      "text/plain": [
       "{0: <gurobi.Constr *Awaiting Model Update*>,\n",
       " 1: <gurobi.Constr *Awaiting Model Update*>,\n",
       " 2: <gurobi.Constr *Awaiting Model Update*>}"
      ]
     },
     "execution_count": 22,
     "metadata": {},
     "output_type": "execute_result"
    }
   ],
   "source": [
    "# At most, there is one label printed for each city.\n",
    "m.addConstrs(\n",
    "    quicksum(x[i, j] for j in range(J)) <= 1 for i in range(I)\n",
    ")"
   ]
  },
  {
   "cell_type": "code",
   "execution_count": 23,
   "metadata": {},
   "outputs": [],
   "source": [
    "# two labels must not overlap!\n",
    "# edges containts adjacent graph edges --> adjacent Labels (nodes of this graph) intersect\n",
    "\n",
    "for (i1, j1), (i2, j2) in intersections:\n",
    "    ...\n",
    "    m.addConstr(\n",
    "        x[i1, j1] + x[i2, j2] <= 1\n",
    "    )\n",
    "\n",
    "\n",
    "\n"
   ]
  },
  {
   "cell_type": "code",
   "execution_count": 24,
   "metadata": {},
   "outputs": [],
   "source": [
    "# maximize the number of labeled cities:\n",
    "\n",
    "m.setObjective(\n",
    "    quicksum(x[i,j] for i in range(I) for j in range(J)),\n",
    "    GRB.MAXIMIZE\n",
    ")\n"
   ]
  },
  {
   "cell_type": "code",
   "execution_count": 25,
   "metadata": {},
   "outputs": [
    {
     "name": "stdout",
     "output_type": "stream",
     "text": [
      "Gurobi Optimizer version 9.5.2 build v9.5.2rc0 (mac64[rosetta2])\n",
      "Thread count: 8 physical cores, 8 logical processors, using up to 8 threads\n",
      "Optimize a model with 53 rows, 12 columns and 112 nonzeros\n",
      "Model fingerprint: 0x4a0abd69\n",
      "Variable types: 0 continuous, 12 integer (12 binary)\n",
      "Coefficient statistics:\n",
      "  Matrix range     [1e+00, 1e+00]\n",
      "  Objective range  [1e+00, 1e+00]\n",
      "  Bounds range     [1e+00, 1e+00]\n",
      "  RHS range        [1e+00, 1e+00]\n",
      "Found heuristic solution: objective 2.0000000\n",
      "Presolve removed 49 rows and 8 columns\n",
      "Presolve time: 0.00s\n",
      "Presolved: 4 rows, 4 columns, 8 nonzeros\n",
      "Found heuristic solution: objective 2.0000000\n",
      "Variable types: 0 continuous, 4 integer (4 binary)\n",
      "\n",
      "Root relaxation: cutoff, 0 iterations, 0.00 seconds (0.00 work units)\n",
      "\n",
      "Explored 1 nodes (0 simplex iterations) in 0.01 seconds (0.00 work units)\n",
      "Thread count was 8 (of 8 available processors)\n",
      "\n",
      "Solution count 2: 2 2 \n",
      "\n",
      "Optimal solution found (tolerance 1.00e-04)\n",
      "Best objective 2.000000000000e+00, best bound 2.000000000000e+00, gap 0.0000%\n"
     ]
    }
   ],
   "source": [
    "m.update()\n",
    "m.optimize()"
   ]
  },
  {
   "cell_type": "code",
   "execution_count": 26,
   "metadata": {},
   "outputs": [
    {
     "name": "stdout",
     "output_type": "stream",
     "text": [
      "Var x[i,j] =  <gurobi.Var x[0,0] (value 0.0)>\n",
      "Var x[i,j] =  <gurobi.Var x[0,1] (value 0.0)>\n",
      "Var x[i,j] =  <gurobi.Var x[0,2] (value 0.0)>\n",
      "Var x[i,j] =  <gurobi.Var x[0,3] (value 1.0)>\n",
      "Var x[i,j] =  <gurobi.Var x[1,0] (value 0.0)>\n",
      "Var x[i,j] =  <gurobi.Var x[1,1] (value 0.0)>\n",
      "Var x[i,j] =  <gurobi.Var x[1,2] (value 0.0)>\n",
      "Var x[i,j] =  <gurobi.Var x[1,3] (value 0.0)>\n",
      "Var x[i,j] =  <gurobi.Var x[2,0] (value 0.0)>\n",
      "Var x[i,j] =  <gurobi.Var x[2,1] (value 1.0)>\n",
      "Var x[i,j] =  <gurobi.Var x[2,2] (value 0.0)>\n",
      "Var x[i,j] =  <gurobi.Var x[2,3] (value 0.0)>\n"
     ]
    }
   ],
   "source": [
    "for i, city in enumerate(city_names):\n",
    "\n",
    "    for j in range(J):\n",
    "        print(\"Var x[i,j] = \", x[i,j])"
   ]
  },
  {
   "cell_type": "code",
   "execution_count": 27,
   "metadata": {},
   "outputs": [],
   "source": [
    "def add_label_to_map(i,j):\n",
    "    ...\n",
    "    label = city_names[i]\n",
    "    label_width = label_widths[i]\n",
    "    label_height = label_heights[i]\n",
    "    # 0=NE, 1=SE, 2=SW 3=NW\n",
    "    x, y = x_pos[i], y_pos[i]\n",
    "\n",
    "    if j in (0,1):\n",
    "        x_start = x + 1\n",
    "    else:\n",
    "        x_start = x - label_width\n",
    "\n",
    "    if j in (0, 3): #north\n",
    "        y_start = y - label_height\n",
    "    else:\n",
    "        y_start = y + 1\n",
    "\n",
    "    try:\n",
    "        for i in range(x_start, x_start + label_width):\n",
    "            map_[y_start][i] = \"_\"\n",
    "    \n",
    "    \n",
    "        for i in range(x_start, x_start + label_width):\n",
    "            map_[y_start +2][i] = \"-\"\n",
    "        \n",
    "        for index, char in enumerate(label):\n",
    "            map_[y_start + 1][x_start + index] = char\n",
    "\n",
    "    except:\n",
    "        ...    \n",
    "    \n"
   ]
  },
  {
   "cell_type": "code",
   "execution_count": 28,
   "metadata": {},
   "outputs": [
    {
     "name": "stdout",
     "output_type": "stream",
     "text": [
      "Found active label: x_ Aachen _ 3\n",
      "Found active label: x_ Köln _ 1\n"
     ]
    }
   ],
   "source": [
    "# add_label_to_map(2,2)\n",
    "\n",
    "for i in range(I):\n",
    "    for j in range(J):\n",
    "        if x[i,j].X == 1:\n",
    "            print(\"Found active label: x_\", city_names[i], \"_\",j)\n",
    "            add_label_to_map(i,j)\n",
    "\n",
    "            "
   ]
  },
  {
   "cell_type": "code",
   "execution_count": 29,
   "metadata": {},
   "outputs": [
    {
     "name": "stdout",
     "output_type": "stream",
     "text": [
      "----------------------------------------------------\n",
      "|                                                  |\n",
      "|                                                  |\n",
      "|               ______                             |\n",
      "|               Aachen                             |\n",
      "|               ------                             |\n",
      "|                     x   x  x                     |\n",
      "|                             ____                 |\n",
      "|                             Köln                 |\n",
      "|                             ----                 |\n",
      "|                                                  |\n",
      "|                                                  |\n",
      "|                                                  |\n",
      "|                                                  |\n",
      "|                                                  |\n",
      "|                                                  |\n",
      "----------------------------------------------------\n"
     ]
    }
   ],
   "source": [
    "print_map()"
   ]
  }
 ],
 "metadata": {
  "kernelspec": {
   "display_name": "Python 3.9.13 ('env_OR': venv)",
   "language": "python",
   "name": "python3"
  },
  "language_info": {
   "codemirror_mode": {
    "name": "ipython",
    "version": 3
   },
   "file_extension": ".py",
   "mimetype": "text/x-python",
   "name": "python",
   "nbconvert_exporter": "python",
   "pygments_lexer": "ipython3",
   "version": "3.9.13"
  },
  "orig_nbformat": 4,
  "vscode": {
   "interpreter": {
    "hash": "f8b1dc5d973f1ac36d1046a455c34874f8ec28a1be322b30406820e31bffffd6"
   }
  }
 },
 "nbformat": 4,
 "nbformat_minor": 2
}
