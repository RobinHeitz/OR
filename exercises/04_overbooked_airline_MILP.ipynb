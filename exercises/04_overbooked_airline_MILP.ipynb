{
 "cells": [
  {
   "cell_type": "code",
   "execution_count": 1,
   "metadata": {},
   "outputs": [],
   "source": [
    "from gurobipy import quicksum, GRB, Model\n"
   ]
  },
  {
   "cell_type": "code",
   "execution_count": 2,
   "metadata": {},
   "outputs": [],
   "source": [
    "I = 6\n",
    "\n",
    "capa = (80,90,80,90,80,90)\n",
    "reservations = (111,159,104,148,170,145)"
   ]
  },
  {
   "cell_type": "code",
   "execution_count": 3,
   "metadata": {},
   "outputs": [
    {
     "name": "stdout",
     "output_type": "stream",
     "text": [
      "Set parameter Username\n",
      "Academic license - for non-commercial use only - expires 2023-10-26\n"
     ]
    }
   ],
   "source": [
    "m = Model(\"Overbooked airline\")\n",
    "x = m.addVars(I, I, vtype=GRB.CONTINUOUS, name='x', lb = 0)\n",
    "y = m.addVars(I, vtype=GRB.CONTINUOUS, name='y', lb = 0)\n",
    "\n",
    "\n",
    "m.setObjective(\n",
    "    (50+3*10) * quicksum(y[i] for i in range(I))\n",
    "    + 40*quicksum(x[i,j] for i in range(I) for j in range(i+1,I))\n",
    "    + 10*quicksum((j-i-1)* x[i,j] for i in range(I) for j in range(i+1, I))\n",
    ")"
   ]
  },
  {
   "cell_type": "code",
   "execution_count": 4,
   "metadata": {},
   "outputs": [
    {
     "data": {
      "text/plain": [
       "{0: <gurobi.Constr *Awaiting Model Update*>,\n",
       " 1: <gurobi.Constr *Awaiting Model Update*>,\n",
       " 2: <gurobi.Constr *Awaiting Model Update*>,\n",
       " 3: <gurobi.Constr *Awaiting Model Update*>,\n",
       " 4: <gurobi.Constr *Awaiting Model Update*>,\n",
       " 5: <gurobi.Constr *Awaiting Model Update*>}"
      ]
     },
     "execution_count": 4,
     "metadata": {},
     "output_type": "execute_result"
    }
   ],
   "source": [
    "# serve all customers:\n",
    "\n",
    "m.addConstrs(\n",
    "    quicksum(x[i,j] for j in range(I)) + y[i] == reservations[i] for i in range(I)\n",
    ")"
   ]
  },
  {
   "cell_type": "code",
   "execution_count": 5,
   "metadata": {},
   "outputs": [
    {
     "data": {
      "text/plain": [
       "{0: <gurobi.Constr *Awaiting Model Update*>,\n",
       " 1: <gurobi.Constr *Awaiting Model Update*>,\n",
       " 2: <gurobi.Constr *Awaiting Model Update*>,\n",
       " 3: <gurobi.Constr *Awaiting Model Update*>,\n",
       " 4: <gurobi.Constr *Awaiting Model Update*>,\n",
       " 5: <gurobi.Constr *Awaiting Model Update*>}"
      ]
     },
     "execution_count": 5,
     "metadata": {},
     "output_type": "execute_result"
    }
   ],
   "source": [
    "# capacity constrains\n",
    "\n",
    "m.addConstrs(\n",
    "    quicksum(x[i,j] for i in range(I)) <= capa[j] for j in range(I)\n",
    ")"
   ]
  },
  {
   "cell_type": "code",
   "execution_count": 6,
   "metadata": {},
   "outputs": [
    {
     "data": {
      "text/plain": [
       "{(0, 1): <gurobi.Constr *Awaiting Model Update*>,\n",
       " (0, 2): <gurobi.Constr *Awaiting Model Update*>,\n",
       " (0, 3): <gurobi.Constr *Awaiting Model Update*>,\n",
       " (0, 4): <gurobi.Constr *Awaiting Model Update*>,\n",
       " (0, 5): <gurobi.Constr *Awaiting Model Update*>,\n",
       " (1, 2): <gurobi.Constr *Awaiting Model Update*>,\n",
       " (1, 3): <gurobi.Constr *Awaiting Model Update*>,\n",
       " (1, 4): <gurobi.Constr *Awaiting Model Update*>,\n",
       " (1, 5): <gurobi.Constr *Awaiting Model Update*>,\n",
       " (2, 3): <gurobi.Constr *Awaiting Model Update*>,\n",
       " (2, 4): <gurobi.Constr *Awaiting Model Update*>,\n",
       " (2, 5): <gurobi.Constr *Awaiting Model Update*>,\n",
       " (3, 4): <gurobi.Constr *Awaiting Model Update*>,\n",
       " (3, 5): <gurobi.Constr *Awaiting Model Update*>,\n",
       " (4, 5): <gurobi.Constr *Awaiting Model Update*>}"
      ]
     },
     "execution_count": 6,
     "metadata": {},
     "output_type": "execute_result"
    }
   ],
   "source": [
    "# cant book reservations on earlier flights:\n",
    "\n",
    "m.addConstrs(\n",
    "    x[i,j] == 0 for j in range(I) for i in range(j+1, I)\n",
    ")"
   ]
  },
  {
   "cell_type": "code",
   "execution_count": 7,
   "metadata": {},
   "outputs": [
    {
     "name": "stdout",
     "output_type": "stream",
     "text": [
      "Gurobi Optimizer version 9.5.2 build v9.5.2rc0 (mac64[rosetta2])\n",
      "Thread count: 8 physical cores, 8 logical processors, using up to 8 threads\n",
      "Optimize a model with 27 rows, 42 columns and 93 nonzeros\n",
      "Model fingerprint: 0xb444ecb2\n",
      "Coefficient statistics:\n",
      "  Matrix range     [1e+00, 1e+00]\n",
      "  Objective range  [4e+01, 8e+01]\n",
      "  Bounds range     [0e+00, 0e+00]\n",
      "  RHS range        [8e+01, 2e+02]\n",
      "Presolve removed 18 rows and 22 columns\n",
      "Presolve time: 0.01s\n",
      "Presolved: 9 rows, 20 columns, 34 nonzeros\n",
      "\n",
      "Iteration    Objective       Primal Inf.    Dual Inf.      Time\n",
      "       0    4.4000000e+03   6.408200e+01   0.000000e+00      0s\n",
      "      13    2.6160000e+04   0.000000e+00   0.000000e+00      0s\n",
      "\n",
      "Solved in 13 iterations and 0.01 seconds (0.00 work units)\n",
      "Optimal objective  2.616000000e+04\n",
      "<gurobi.LinExpr: 40.0 x[0,1] + 50.0 x[0,2] + 60.0 x[0,3] + 70.0 x[0,4] + 80.0 x[0,5] + 40.0 x[1,2] + 50.0 x[1,3] + 60.0 x[1,4] + 70.0 x[1,5] + 40.0 x[2,3] + 50.0 x[2,4] + 60.0 x[2,5] + 40.0 x[3,4] + 50.0 x[3,5] + 40.0 x[4,5] + 80.0 y[0] + 80.0 y[1] + 80.0 y[2] + 80.0 y[3] + 80.0 y[4] + 80.0 y[5]>\n"
     ]
    }
   ],
   "source": [
    "m.optimize()\n",
    "\n",
    "print(m.getObjective())\n"
   ]
  },
  {
   "cell_type": "code",
   "execution_count": 8,
   "metadata": {},
   "outputs": [
    {
     "name": "stdout",
     "output_type": "stream",
     "text": [
      "# guests in flight 0: 80.0\n",
      "# guests in flight 1: 90.0\n",
      "# guests in flight 2: 80.0\n",
      "# guests in flight 3: 90.0\n",
      "# guests in flight 4: 80.0\n",
      "# guests in flight 5: 90.0\n",
      "Booking of flights from another airline: 327.0\n",
      "Total guests: 837.0\n",
      "Total reservations =  837\n",
      "Total costs =  26160.0\n"
     ]
    }
   ],
   "source": [
    "for j in range(I):\n",
    "    guests = quicksum(x[i,j] for i in range(0,j+1)).getValue()\n",
    "    print(f\"# guests in flight {j}: {guests}\")\n",
    "\n",
    "another_airline = quicksum(y[i] for i in range(I)).getValue()\n",
    "\n",
    "print(\"Booking of flights from another airline:\", another_airline)\n",
    "\n",
    "print(f\"Total guests: {another_airline + quicksum(x[i,j] for i in range(I) for j in range(I)).getValue()}\")\n",
    "print(\"Total reservations = \", sum(reservations))\n",
    "\n",
    "print(\"Total costs = \", m.getObjective().getValue())\n"
   ]
  }
 ],
 "metadata": {
  "kernelspec": {
   "display_name": "Python 3.9.13 ('env_OR': venv)",
   "language": "python",
   "name": "python3"
  },
  "language_info": {
   "codemirror_mode": {
    "name": "ipython",
    "version": 3
   },
   "file_extension": ".py",
   "mimetype": "text/x-python",
   "name": "python",
   "nbconvert_exporter": "python",
   "pygments_lexer": "ipython3",
   "version": "3.9.13"
  },
  "orig_nbformat": 4,
  "vscode": {
   "interpreter": {
    "hash": "f8b1dc5d973f1ac36d1046a455c34874f8ec28a1be322b30406820e31bffffd6"
   }
  }
 },
 "nbformat": 4,
 "nbformat_minor": 2
}
