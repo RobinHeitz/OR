{
 "cells": [
  {
   "cell_type": "code",
   "execution_count": 22,
   "metadata": {},
   "outputs": [
    {
     "name": "stdout",
     "output_type": "stream",
     "text": [
      "[(0, 1), (0, 2), (1, 2), (1, 4), (2, 4), (2, 3), (4, 3), (4, 5), (3, 5)]\n",
      "{(0, 1): 3, (0, 2): 5, (1, 2): 1, (1, 4): 5, (2, 4): 2, (2, 3): 4, (4, 3): 1, (4, 5): 3, (3, 5): 1}\n"
     ]
    }
   ],
   "source": [
    "vertices = [\"A\", \"P\", \"L\", \"N\", \"T\", \"C\"]\n",
    "vertices_num = list(range(len(vertices)))\n",
    "\n",
    "V = len(vertices_num)\n",
    "\n",
    "edges = [\n",
    "    (\"A\", \"P\"),\n",
    "    (\"A\", \"L\"),\n",
    "    (\"P\", \"L\"),\n",
    "    (\"P\", \"T\"),\n",
    "    (\"L\", \"T\"),\n",
    "    (\"L\", \"N\"),\n",
    "    (\"T\", \"N\"),\n",
    "    (\"T\", \"C\"),\n",
    "    (\"N\", \"C\"),\n",
    "]\n",
    "\n",
    "edges_num = [(vertices.index(m),vertices.index(n)) for m,n in edges]\n",
    "print(edges_num)\n",
    "\n",
    "weights = {\n",
    "    (\"A\", \"P\"): 3,\n",
    "    (\"A\", \"L\"): 5,\n",
    "    (\"P\", \"L\"): 1,\n",
    "    (\"P\", \"T\"): 5,\n",
    "    (\"L\", \"T\"): 2,\n",
    "    (\"L\", \"N\"): 4,\n",
    "    (\"T\", \"N\"): 1,\n",
    "    (\"T\", \"C\"): 3,\n",
    "    (\"N\", \"C\"): 1,\n",
    "}\n",
    "\n",
    "weights_num = {\n",
    "    (vertices.index(i), vertices.index(j)):weights[(i,j)] for i,j in weights.keys()\n",
    "}\n",
    "\n",
    "print(weights_num)\n",
    "\n",
    "E = len(edges)"
   ]
  },
  {
   "cell_type": "code",
   "execution_count": 21,
   "metadata": {},
   "outputs": [
    {
     "ename": "KeyError",
     "evalue": "(0, 1)",
     "output_type": "error",
     "traceback": [
      "\u001b[0;31m---------------------------------------------------------------------------\u001b[0m",
      "\u001b[0;31mKeyError\u001b[0m                                  Traceback (most recent call last)",
      "Cell \u001b[0;32mIn [21], line 7\u001b[0m\n\u001b[1;32m      3\u001b[0m model \u001b[39m=\u001b[39m Model(\u001b[39m\"\u001b[39m\u001b[39mShortest path as LP\u001b[39m\u001b[39m\"\u001b[39m)\n\u001b[1;32m      5\u001b[0m x \u001b[39m=\u001b[39m model\u001b[39m.\u001b[39maddVars(E, name\u001b[39m=\u001b[39m\u001b[39m\"\u001b[39m\u001b[39mx\u001b[39m\u001b[39m\"\u001b[39m, vtype\u001b[39m=\u001b[39mGRB\u001b[39m.\u001b[39mBINARY)\n\u001b[0;32m----> 7\u001b[0m model\u001b[39m.\u001b[39msetObjective(quicksum(x[i,j] \u001b[39mfor\u001b[39;49;00m i,j \u001b[39min\u001b[39;49;00m edges_num))\n",
      "File \u001b[0;32msrc/gurobipy/gurobi.pxi:3631\u001b[0m, in \u001b[0;36mgurobipy.quicksum\u001b[0;34m()\u001b[0m\n",
      "Cell \u001b[0;32mIn [21], line 7\u001b[0m, in \u001b[0;36m<genexpr>\u001b[0;34m(.0)\u001b[0m\n\u001b[1;32m      3\u001b[0m model \u001b[39m=\u001b[39m Model(\u001b[39m\"\u001b[39m\u001b[39mShortest path as LP\u001b[39m\u001b[39m\"\u001b[39m)\n\u001b[1;32m      5\u001b[0m x \u001b[39m=\u001b[39m model\u001b[39m.\u001b[39maddVars(E, name\u001b[39m=\u001b[39m\u001b[39m\"\u001b[39m\u001b[39mx\u001b[39m\u001b[39m\"\u001b[39m, vtype\u001b[39m=\u001b[39mGRB\u001b[39m.\u001b[39mBINARY)\n\u001b[0;32m----> 7\u001b[0m model\u001b[39m.\u001b[39msetObjective(quicksum(x[i,j] \u001b[39mfor\u001b[39;00m i,j \u001b[39min\u001b[39;00m edges_num))\n",
      "\u001b[0;31mKeyError\u001b[0m: (0, 1)"
     ]
    }
   ],
   "source": [
    "from gurobipy import GRB, Model, quicksum\n",
    "\n",
    "model = Model(\"Shortest path as LP\")\n",
    "\n",
    "x = {}\n",
    "\n",
    "for i,j in \n",
    "\n",
    "x = model.addVars(E, name=\"x\", vtype=GRB.BINARY)\n",
    "\n",
    "model.setObjective(quicksum(x[i,j] for i,j in edges_num))\n"
   ]
  }
 ],
 "metadata": {
  "kernelspec": {
   "display_name": "Python 3.9.13 ('env_OR': venv)",
   "language": "python",
   "name": "python3"
  },
  "language_info": {
   "codemirror_mode": {
    "name": "ipython",
    "version": 3
   },
   "file_extension": ".py",
   "mimetype": "text/x-python",
   "name": "python",
   "nbconvert_exporter": "python",
   "pygments_lexer": "ipython3",
   "version": "3.9.13"
  },
  "orig_nbformat": 4,
  "vscode": {
   "interpreter": {
    "hash": "f8b1dc5d973f1ac36d1046a455c34874f8ec28a1be322b30406820e31bffffd6"
   }
  }
 },
 "nbformat": 4,
 "nbformat_minor": 2
}
