{
 "cells": [
  {
   "cell_type": "code",
   "execution_count": 23,
   "metadata": {},
   "outputs": [
    {
     "name": "stdout",
     "output_type": "stream",
     "text": [
      "a\n",
      "b\n",
      "c\n"
     ]
    }
   ],
   "source": [
    "d = dict(a = \"b\", b=\"c\", c=\"d\")\n",
    "\n",
    "for s in d.keys():\n",
    "    print(s)"
   ]
  },
  {
   "cell_type": "code",
   "execution_count": 9,
   "metadata": {},
   "outputs": [
    {
     "name": "stdout",
     "output_type": "stream",
     "text": [
      "[('a', 'b'), ('a', 'c'), ('a', 'd'), ('b', 'a'), ('b', 'c'), ('b', 'd'), ('c', 'a'), ('c', 'b'), ('c', 'd'), ('d', 'a'), ('d', 'b'), ('d', 'c')]\n"
     ]
    }
   ],
   "source": [
    "from itertools import permutations\n",
    "\n",
    "l = (\"a\", \"b\", \"c\", \"d\")\n",
    "\n",
    "t = permutations(l, 2, )\n",
    "print(list(t))"
   ]
  },
  {
   "cell_type": "code",
   "execution_count": 32,
   "metadata": {},
   "outputs": [],
   "source": [
    "from itertools import permutations\n",
    "import math\n",
    "\n",
    "def prepare_data(locations:dict, velocities:dict):\n",
    "    reaction_times = {}\n",
    "    \n",
    "    amb_vel = velocities.get(\"amb\")\n",
    "    hel_vel = velocities.get(\"hel\") \n",
    "\n",
    "    for i in locations:\n",
    "        for j in locations:\n",
    "\n",
    "            loc1 = locations.get(i)\n",
    "            loc2 = locations.get(j)\n",
    "            \n",
    "            # euclidian distance: Helicopter\n",
    "            d_hel = math.sqrt((loc1[0]-loc2[0])**2 + (loc1[1]-loc2[1])**2)\n",
    "            reaction_times[(i,j,\"hel\")] = round(d_hel / hel_vel, 4)\n",
    "\n",
    "            # manhatten distance: Ambulance\n",
    "            d_amb = abs(loc1[0] - loc2[0]) + abs(loc1[1] - loc2[1]) # abs(x1-x2) + abs(y1-y2)\n",
    "            reaction_times[(i,j,\"amb\")] = round(d_amb / amb_vel, 4)\n",
    "    return reaction_times"
   ]
  },
  {
   "cell_type": "code",
   "execution_count": 33,
   "metadata": {},
   "outputs": [
    {
     "data": {
      "text/plain": [
       "{('a', 'a', 'hel'): 0.0,\n",
       " ('a', 'a', 'amb'): 0.0,\n",
       " ('a', 'b', 'hel'): 0.8212,\n",
       " ('a', 'b', 'amb'): 2.6939,\n",
       " ('a', 'c', 'hel'): 0.8137,\n",
       " ('a', 'c', 'amb'): 2.1275,\n",
       " ('a', 'd', 'hel'): 1.7828,\n",
       " ('a', 'd', 'amb'): 5.5978,\n",
       " ('a', 'e', 'hel'): 0.9371,\n",
       " ('a', 'e', 'amb'): 3.055,\n",
       " ('a', 'f', 'hel'): 1.2315,\n",
       " ('a', 'f', 'amb'): 4.1447,\n",
       " ('a', 'g', 'hel'): 0.4681,\n",
       " ('a', 'g', 'amb'): 1.3764,\n",
       " ('a', 'h', 'hel'): 1.0534,\n",
       " ('a', 'h', 'amb'): 2.8131,\n",
       " ('b', 'a', 'hel'): 0.8212,\n",
       " ('b', 'a', 'amb'): 2.6939,\n",
       " ('b', 'b', 'hel'): 0.0,\n",
       " ('b', 'b', 'amb'): 0.0,\n",
       " ('b', 'c', 'hel'): 0.5173,\n",
       " ('b', 'c', 'amb'): 1.4647,\n",
       " ('b', 'd', 'hel'): 0.9758,\n",
       " ('b', 'd', 'amb'): 2.9039,\n",
       " ('b', 'e', 'hel'): 1.2309,\n",
       " ('b', 'e', 'amb'): 3.7178,\n",
       " ('b', 'f', 'hel'): 1.2403,\n",
       " ('b', 'f', 'amb'): 3.4819,\n",
       " ('b', 'g', 'hel'): 0.3915,\n",
       " ('b', 'g', 'amb'): 1.3175,\n",
       " ('b', 'h', 'hel'): 0.6544,\n",
       " ('b', 'h', 'amb'): 2.1503,\n",
       " ('c', 'a', 'hel'): 0.8137,\n",
       " ('c', 'a', 'amb'): 2.1275,\n",
       " ('c', 'b', 'hel'): 0.5173,\n",
       " ('c', 'b', 'amb'): 1.4647,\n",
       " ('c', 'c', 'hel'): 0.0,\n",
       " ('c', 'c', 'amb'): 0.0,\n",
       " ('c', 'd', 'hel'): 1.142,\n",
       " ('c', 'd', 'amb'): 3.8569,\n",
       " ('c', 'e', 'hel'): 1.5575,\n",
       " ('c', 'e', 'amb'): 5.1825,\n",
       " ('c', 'f', 'hel'): 0.7232,\n",
       " ('c', 'f', 'amb'): 2.0172,\n",
       " ('c', 'g', 'hel'): 0.4136,\n",
       " ('c', 'g', 'amb'): 1.3489,\n",
       " ('c', 'h', 'hel'): 0.2409,\n",
       " ('c', 'h', 'amb'): 0.6856,\n",
       " ('d', 'a', 'hel'): 1.7828,\n",
       " ('d', 'a', 'amb'): 5.5978,\n",
       " ('d', 'b', 'hel'): 0.9758,\n",
       " ('d', 'b', 'amb'): 2.9039,\n",
       " ('d', 'c', 'hel'): 1.142,\n",
       " ('d', 'c', 'amb'): 3.8569,\n",
       " ('d', 'd', 'hel'): 0.0,\n",
       " ('d', 'd', 'amb'): 0.0,\n",
       " ('d', 'e', 'hel'): 2.1052,\n",
       " ('d', 'e', 'amb'): 5.2783,\n",
       " ('d', 'f', 'hel'): 1.6507,\n",
       " ('d', 'f', 'amb'): 5.2353,\n",
       " ('d', 'g', 'hel'): 1.3207,\n",
       " ('d', 'g', 'amb'): 4.2214,\n",
       " ('d', 'h', 'hel'): 1.0267,\n",
       " ('d', 'h', 'amb'): 3.4181,\n",
       " ('e', 'a', 'hel'): 0.9371,\n",
       " ('e', 'a', 'amb'): 3.055,\n",
       " ('e', 'b', 'hel'): 1.2309,\n",
       " ('e', 'b', 'amb'): 3.7178,\n",
       " ('e', 'c', 'hel'): 1.5575,\n",
       " ('e', 'c', 'amb'): 5.1825,\n",
       " ('e', 'd', 'hel'): 2.1052,\n",
       " ('e', 'd', 'amb'): 5.2783,\n",
       " ('e', 'e', 'hel'): 0.0,\n",
       " ('e', 'e', 'amb'): 0.0,\n",
       " ('e', 'f', 'hel'): 2.1356,\n",
       " ('e', 'f', 'amb'): 7.1997,\n",
       " ('e', 'g', 'hel'): 1.1462,\n",
       " ('e', 'g', 'amb'): 3.8336,\n",
       " ('e', 'h', 'hel'): 1.7822,\n",
       " ('e', 'h', 'amb'): 5.8681,\n",
       " ('f', 'a', 'hel'): 1.2315,\n",
       " ('f', 'a', 'amb'): 4.1447,\n",
       " ('f', 'b', 'hel'): 1.2403,\n",
       " ('f', 'b', 'amb'): 3.4819,\n",
       " ('f', 'c', 'hel'): 0.7232,\n",
       " ('f', 'c', 'amb'): 2.0172,\n",
       " ('f', 'd', 'hel'): 1.6507,\n",
       " ('f', 'd', 'amb'): 5.2353,\n",
       " ('f', 'e', 'hel'): 2.1356,\n",
       " ('f', 'e', 'amb'): 7.1997,\n",
       " ('f', 'f', 'hel'): 0.0,\n",
       " ('f', 'f', 'amb'): 0.0,\n",
       " ('f', 'g', 'hel'): 1.0406,\n",
       " ('f', 'g', 'amb'): 3.3661,\n",
       " ('f', 'h', 'hel'): 0.6669,\n",
       " ('f', 'h', 'amb'): 1.8172,\n",
       " ('g', 'a', 'hel'): 0.4681,\n",
       " ('g', 'a', 'amb'): 1.3764,\n",
       " ('g', 'b', 'hel'): 0.3915,\n",
       " ('g', 'b', 'amb'): 1.3175,\n",
       " ('g', 'c', 'hel'): 0.4136,\n",
       " ('g', 'c', 'amb'): 1.3489,\n",
       " ('g', 'd', 'hel'): 1.3207,\n",
       " ('g', 'd', 'amb'): 4.2214,\n",
       " ('g', 'e', 'hel'): 1.1462,\n",
       " ('g', 'e', 'amb'): 3.8336,\n",
       " ('g', 'f', 'hel'): 1.0406,\n",
       " ('g', 'f', 'amb'): 3.3661,\n",
       " ('g', 'g', 'hel'): 0.0,\n",
       " ('g', 'g', 'amb'): 0.0,\n",
       " ('g', 'h', 'hel'): 0.6474,\n",
       " ('g', 'h', 'amb'): 2.0344,\n",
       " ('h', 'a', 'hel'): 1.0534,\n",
       " ('h', 'a', 'amb'): 2.8131,\n",
       " ('h', 'b', 'hel'): 0.6544,\n",
       " ('h', 'b', 'amb'): 2.1503,\n",
       " ('h', 'c', 'hel'): 0.2409,\n",
       " ('h', 'c', 'amb'): 0.6856,\n",
       " ('h', 'd', 'hel'): 1.0267,\n",
       " ('h', 'd', 'amb'): 3.4181,\n",
       " ('h', 'e', 'hel'): 1.7822,\n",
       " ('h', 'e', 'amb'): 5.8681,\n",
       " ('h', 'f', 'hel'): 0.6669,\n",
       " ('h', 'f', 'amb'): 1.8172,\n",
       " ('h', 'g', 'hel'): 0.6474,\n",
       " ('h', 'g', 'amb'): 2.0344,\n",
       " ('h', 'h', 'hel'): 0.0,\n",
       " ('h', 'h', 'amb'): 0.0}"
      ]
     },
     "execution_count": 33,
     "metadata": {},
     "output_type": "execute_result"
    }
   ],
   "source": [
    "velocities = {\n",
    "\t'amb': 36,\n",
    "\t'hel': 86\n",
    "}\n",
    "\n",
    "locations = {\n",
    "\t'a': (50.24, -22.83),\n",
    "\t'b': (-10.18, -59.39),\n",
    "\t'c': (-19.39, -15.87),\n",
    "\t'd': (-90.54, -83.57),\n",
    "\t'e': (90.27, -92.78),\n",
    "\t'f': (-30.89, 45.25),\n",
    "\t'g': (11.45, -33.59),\n",
    "\t'h': (-39.63, -11.43),\n",
    "\t\n",
    "}\n",
    "\n",
    "prepare_data(locations, velocities)"
   ]
  },
  {
   "cell_type": "code",
   "execution_count": 30,
   "metadata": {},
   "outputs": [
    {
     "name": "stdout",
     "output_type": "stream",
     "text": [
      "['b', 'e', 'c']\n"
     ]
    }
   ],
   "source": [
    "locations = dict(\n",
    "    a = (1,2),\n",
    "    b = (1,2),\n",
    "    c = (1,2),\n",
    "    d = (1,2),\n",
    "    e = (1,2),\n",
    ")\n",
    "\n",
    "locations_hel = [\"a\", \"d\"]\n",
    "locs = {i for i in locations}\n",
    "locs_hel = {i for i in locations_hel}\n",
    "\n",
    "print(list(locs - locs_hel))"
   ]
  }
 ],
 "metadata": {
  "kernelspec": {
   "display_name": "env_OR",
   "language": "python",
   "name": "python3"
  },
  "language_info": {
   "codemirror_mode": {
    "name": "ipython",
    "version": 3
   },
   "file_extension": ".py",
   "mimetype": "text/x-python",
   "name": "python",
   "nbconvert_exporter": "python",
   "pygments_lexer": "ipython3",
   "version": "3.9.13"
  },
  "orig_nbformat": 4,
  "vscode": {
   "interpreter": {
    "hash": "f8b1dc5d973f1ac36d1046a455c34874f8ec28a1be322b30406820e31bffffd6"
   }
  }
 },
 "nbformat": 4,
 "nbformat_minor": 2
}
