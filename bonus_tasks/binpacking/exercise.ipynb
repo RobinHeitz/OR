{
 "cells": [
  {
   "attachments": {},
   "cell_type": "markdown",
   "metadata": {},
   "source": [
    "Have a look at the Bin Packing problem with conflicts. You are given a dictionary of items, items, where every item ii has a weight of weight[i]. Additionally, you are given a list of bins, bins, each of which having a capacity of capacity. Some items must not be packed into the same bin. These are given as tuples (containing two items) in the list conflicts. Your task is to pack every item in exactly one bin such that as few bins as possible are used, the capacity of every bin is not exceeded, and the conflicts are taken into account.\n",
    "\n",
    "You are given the files binpacking.py, binpacking-data1.py, and binpacking-data2.py. Modify the file binpacking.py such that it solves the Bin Packing problem with conflicts. Model this problem as an integer linear program and modify the file binpacking.py at the highlighted positions. If necessary, add attributes for the given decision variables (e.g., lb, ub, obj, vtype). If necessary, modify the objective function and add missing linear constraints. The variable x_{i,j}x \n",
    "i,j\n",
    "​\n",
    "  is be the decision variable whether if item i is packed into bin j (x_{i,j} = 1x \n",
    "i,j\n",
    "​\n",
    " =1) or not (x_{i,j} = 0x \n",
    "i,j\n",
    "​\n",
    " =0). Moreover, the variable y j defines whether if bin j is being used (y_i = 1y \n",
    "i\n",
    "​\n",
    " =1) or not (y_i = 0y \n",
    "i\n",
    "​\n",
    " =0). You can partially test your model by running the code in binpacking-data1.py or binpacking-data2.py (in these files your modified solve-methods is called).\n",
    "\n",
    "Hints\n",
    "\n",
    "The files binpacking-data1.py and binpacking-data2.py should not be modified. Only add to the file binpacking.py.\n",
    "The files binpacking-data1.py and binpacking-data2.py have to be saved in the same directory as the file binpacking.py.\n",
    "First write down the model on paper. After you are sure that the model is correct, add the constraints and if necessary add attributes (e.g., lb, ub, obj, vtype) and modify the objective function.\n",
    "Please ensure that your model is linear. If you multiply different variables, this will result in 0 points.\n",
    "Please ensure that your code runs in Python 3.6 or higher.\n",
    "The optimal objective value is 77 for binpacking-data1.py and 88 for binpacking-data2.py.\n",
    "You can add additional variables but the given variables have to be used and must not be renamed, otherwise you will receive 00 points.\n",
    "Please keep in mind that the instances have to be modeled correctly. It is not enough if your model just returns the correct objective value.\n",
    "Correct objective values do not necessarily mean that you are awarded full marks.\n",
    "Don’t hesitate to ask questions in the forum or on the internet.\n",
    "If you have trouble finding a partner, simply ask in the forum.\n",
    "Technische Voraussetzungen\n",
    "Ihr Code sollte unter der Pythonversion 3.6.6 ausführbar sein.\n",
    "Ihr Code sollte mit Gurobi 9.1.2 ausführbar sein.\n",
    "Sie dürfen nur gurobipy importieren.\n",
    "Sie dürfen eval und exec nicht verwenden.\n",
    "Sie dürfen höchstens eine Datei hochladen.\n",
    "Die maximale Dateigröße beträgt 1 MB.\n",
    "Ihre Dateien dürfen nur die Dateiendung .py haben.\n",
    "Stellen Sie sicher, dass Sie eine Datei mit dem Namen binpacking.py hochladen.\n",
    "Ändern Sie nicht die Namen der Variablen, die bereits im Gurobi-Modell definiert sind. Verwenden Sie, wenn Sie neue Variablen deklarieren, nicht schon vorhandene Namen.\n",
    "Die Verwendung des Bitshift- oder Implikationsoperators ist nicht erlaubt."
   ]
  }
 ],
 "metadata": {
  "language_info": {
   "name": "python"
  },
  "orig_nbformat": 4
 },
 "nbformat": 4,
 "nbformat_minor": 2
}
